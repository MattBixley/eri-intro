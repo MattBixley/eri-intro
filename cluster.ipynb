{
  "cells": [
    {
      "cell_type": "raw",
      "metadata": {},
      "source": [
        "---\n",
        "title: \"Cluster\"\n",
        "---"
      ],
      "id": "0113fe6b"
    },
    {
      "cell_type": "markdown",
      "metadata": {},
      "source": [
        "Cluster setup and resources available\n",
        "\n",
        "\n",
        "```{bash, eval = F}\n",
        "login-0 ~ $ sinfo\n",
        "PARTITION AVAIL JOB_SIZE  TIMELIMIT   CPUS  S:C:T   NODES STATE      NODELIST\n",
        "compute*  up    1-infini 14-00:00:0    256 2:64:2       2 mixed      compute-[0,5]\n",
        "compute*  up    1-infini 14-00:00:0    256 2:64:2       1 allocated  compute-2\n",
        "compute*  up    1-infini 14-00:00:0    256 2:64:2       3 idle       compute-[1,3-4]\n",
        "gpu       up    1-infini 14-00:00:0     96 2:24:2       1 idle       gpu-0\n",
        "hugemem   up    1-infini 14-00:00:0    256 2:64:2       1 mixed      hugemem-0\n",
        "hugemem   up    1-infini 14-00:00:0    256 2:64:2       1 idle       hugemem-1\n",
        "interacti up    1-infini 60-00:00:0      8  8:1:1       1 mixed      interactive-0\n",
        "interacti up    1-infini 60-00:00:0      8  8:1:1       2 idle       interactive-[1-2]\n",
        "vgpu      up    1-infini 60-00:00:0     32 32:1:1       4 idle       vgpu-[0-3]\n",
        "```"
      ],
      "id": "06c1e2bc"
    }
  ],
  "metadata": {
    "kernelspec": {
      "display_name": "Python 3",
      "language": "python",
      "name": "python3"
    }
  },
  "nbformat": 4,
  "nbformat_minor": 5
}